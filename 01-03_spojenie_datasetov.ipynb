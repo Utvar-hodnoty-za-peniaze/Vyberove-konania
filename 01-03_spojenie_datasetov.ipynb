{
 "cells": [
  {
   "cell_type": "markdown",
   "metadata": {},
   "source": [
    "Spojenie čiastkových datasetov a kontrola."
   ]
  },
  {
   "cell_type": "code",
   "execution_count": 1,
   "metadata": {},
   "outputs": [],
   "source": [
    "import pandas as pd\n",
    "import numpy as np\n",
    "import pickle"
   ]
  },
  {
   "cell_type": "markdown",
   "metadata": {},
   "source": [
    "### Spojenie"
   ]
  },
  {
   "cell_type": "code",
   "execution_count": 3,
   "metadata": {},
   "outputs": [],
   "source": [
    "df = pd.DataFrame()\n",
    "datestring = '20191118'\n",
    "\n",
    "for ii in range(1, 185+1):\n",
    "    with open('./Data/data_'+datestring+'_' + str(ii) + '.pkl', 'rb') as f:\n",
    "        df0 = pickle.load(f)\n",
    "    df = df.append(df0, ignore_index=True)"
   ]
  },
  {
   "cell_type": "markdown",
   "metadata": {},
   "source": [
    "### Kontrola"
   ]
  },
  {
   "cell_type": "code",
   "execution_count": 24,
   "metadata": {},
   "outputs": [
    {
     "data": {
      "text/plain": [
       "18469"
      ]
     },
     "execution_count": 24,
     "metadata": {},
     "output_type": "execute_result"
    }
   ],
   "source": [
    "df.index.size"
   ]
  },
  {
   "cell_type": "code",
   "execution_count": 26,
   "metadata": {},
   "outputs": [
    {
     "data": {
      "text/plain": [
       "18469"
      ]
     },
     "execution_count": 26,
     "metadata": {},
     "output_type": "execute_result"
    }
   ],
   "source": [
    "df.index_konania.unique().size"
   ]
  },
  {
   "cell_type": "markdown",
   "metadata": {},
   "source": [
    "bez duplicitných záznamov"
   ]
  },
  {
   "cell_type": "markdown",
   "metadata": {},
   "source": [
    "Skontroluj preskocene záznamy"
   ]
  },
  {
   "cell_type": "code",
   "execution_count": 22,
   "metadata": {},
   "outputs": [],
   "source": [
    "with open('./Data/log_preskocene_'+datestring+'.txt') as f:\n",
    "    preskocene = f.readlines()\n",
    "\n",
    "# zbehnutie kodu ak zlyha ukladanie niektorych datasetov\n",
    "# with open('./Data/log_preskocene_chyby'+datestring+'.txt') as f:\n",
    "#    preskocene = preskocene + f.readlines()"
   ]
  },
  {
   "cell_type": "code",
   "execution_count": 49,
   "metadata": {},
   "outputs": [
    {
     "name": "stdout",
     "output_type": "stream",
     "text": [
      "1546\n",
      "Unikatnych 1340\n"
     ]
    }
   ],
   "source": [
    "# transformuj do formatu index - (priebežný) výsledok konania\n",
    "def get_index_result(preskoceny_zaznam):\n",
    "    preskoceny_zaznam_list = preskoceny_zaznam.split(' ')\n",
    "    index = int(preskoceny_zaznam_list[1])\n",
    "    vysledok = ' '.join(preskoceny_zaznam_list[3:]).strip('\\n')\n",
    "    \n",
    "    return (index, vysledok)\n",
    "preskocene_list = list(map(get_index_result, preskocene))\n",
    "print(len(preskocene_list))\n",
    "\n",
    "# poradime si s duplikatmi (opakovany zapis zaznamov, ktore sa kvoli chybe neulozili ale neskor sme ich znova zbehli)\n",
    "df_preskocene = pd.DataFrame(pd.Series(dict(preskocene_list)))\n",
    "df_preskocene.index.name = 'index_konania'\n",
    "df_preskocene.rename(columns={0:'vysledok'}, inplace=True)\n",
    "print('Unikatnych', df_preskocene.index.size)"
   ]
  },
  {
   "cell_type": "code",
   "execution_count": 50,
   "metadata": {},
   "outputs": [
    {
     "data": {
      "text/plain": [
       "Ukončené prihlasovanie                                    682\n",
       "Zrušené výberové konanie                                  404\n",
       "Vyhlásené                                                 229\n",
       "Zrušené štátnozamestnanecké miesto                         16\n",
       "Zánik dôvodu na obsadenie štátnozamestnaneckého miesta      9\n",
       "Name: vysledok, dtype: int64"
      ]
     },
     "execution_count": 50,
     "metadata": {},
     "output_type": "execute_result"
    }
   ],
   "source": [
    "# co tam máme?\n",
    "df_preskocene['vysledok'].value_counts()"
   ]
  },
  {
   "cell_type": "code",
   "execution_count": 45,
   "metadata": {},
   "outputs": [
    {
     "data": {
      "text/plain": [
       "1340"
      ]
     },
     "execution_count": 45,
     "metadata": {},
     "output_type": "execute_result"
    }
   ],
   "source": [
    "df_preskocene.index.size"
   ]
  },
  {
   "cell_type": "code",
   "execution_count": 51,
   "metadata": {},
   "outputs": [],
   "source": [
    "# nacitaj relativne linky ku vsetkym konaniam\n",
    "with open('./Data/rel_linky_list_'+datestring+'.pkl', 'rb') as f:\n",
    "    relativne_linky = pickle.load(f)\n",
    "    \n",
    "pocet_zaznamov = len(relativne_linky)"
   ]
  },
  {
   "cell_type": "code",
   "execution_count": 53,
   "metadata": {},
   "outputs": [
    {
     "name": "stdout",
     "output_type": "stream",
     "text": [
      "pocet_zaznamov == s_vysledkom + preskocene\n",
      "True\n"
     ]
    }
   ],
   "source": [
    "print('pocet_zaznamov == s_vysledkom + preskocene' )\n",
    "print(pocet_zaznamov == (df.index.size + df_preskocene.index.size))"
   ]
  },
  {
   "cell_type": "code",
   "execution_count": null,
   "metadata": {},
   "outputs": [],
   "source": [
    "# uloz\n",
    "df.to_excel('./Data/vyberove_konania_20191119.xlsx')\n",
    "df.to_pickle('./Data/vyberove_konania_20191119.pkl')"
   ]
  }
 ],
 "metadata": {
  "kernelspec": {
   "display_name": "Python 3",
   "language": "python",
   "name": "python3"
  },
  "language_info": {
   "codemirror_mode": {
    "name": "ipython",
    "version": 3
   },
   "file_extension": ".py",
   "mimetype": "text/x-python",
   "name": "python",
   "nbconvert_exporter": "python",
   "pygments_lexer": "ipython3",
   "version": "3.8.1"
  }
 },
 "nbformat": 4,
 "nbformat_minor": 2
}
