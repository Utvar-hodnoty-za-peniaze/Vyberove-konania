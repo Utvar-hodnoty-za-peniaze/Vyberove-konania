{
 "cells": [
  {
   "cell_type": "code",
   "execution_count": 1,
   "metadata": {},
   "outputs": [],
   "source": [
    "from selenium import webdriver\n",
    "from bs4 import BeautifulSoup\n",
    "from math import ceil\n",
    "import pickle\n",
    "\n",
    "import numpy as np\n",
    "import pandas as pd"
   ]
  },
  {
   "cell_type": "code",
   "execution_count": 2,
   "metadata": {},
   "outputs": [],
   "source": [
    "datestring_old = '20191118'\n",
    "datestring_new = '20200210'"
   ]
  },
  {
   "cell_type": "code",
   "execution_count": 3,
   "metadata": {},
   "outputs": [],
   "source": [
    "# nacitaj relativne linky ku vsetkym konaniam\n",
    "with open('./Data/rel_linky_list_'+datestring_old+'.pkl', 'rb') as f:\n",
    "    relativne_linky_old = pickle.load(f)\n",
    "    \n",
    "with open('./Data/rel_linky_list_'+datestring_new+'.pkl', 'rb') as f:\n",
    "    relativne_linky = pickle.load(f)"
   ]
  },
  {
   "cell_type": "code",
   "execution_count": 4,
   "metadata": {},
   "outputs": [
    {
     "name": "stdout",
     "output_type": "stream",
     "text": [
      "1206\n"
     ]
    }
   ],
   "source": [
    "# vytiahni indexy z relativnych linkov\n",
    "def get_indexy_konani(rel_link):\n",
    "    return rel_link.split('/')[-1]\n",
    "\n",
    "indexy_konani_old = list(map(get_indexy_konani, relativne_linky_old))\n",
    "indexy_konani = list(map(get_indexy_konani, relativne_linky))\n",
    "\n",
    "# identifikuj nove vyhlasene konania\n",
    "indexy_konani_new = np.setdiff1d(indexy_konani, indexy_konani_old)\n",
    "print(indexy_konani_new.size)"
   ]
  },
  {
   "cell_type": "code",
   "execution_count": 5,
   "metadata": {},
   "outputs": [],
   "source": [
    "# scraping treba zbehnut aj na predtym preskocenych vyberovych konaniach, \n",
    "# ktore mohli byt aktualizovane (vyhlasenie vysledku)\n",
    "\n",
    "with open('./Data/log_preskocene_'+datestring_old+'.txt') as f:\n",
    "    preskocene = f.readlines()\n",
    "\n",
    "# zbehnutie kodu ak zlyha ukladanie niektorych datasetov\n",
    "with open('./Data/log_preskocene_chyby_'+datestring_old+'.txt') as f:\n",
    "    preskocene = preskocene + f.readlines()"
   ]
  },
  {
   "cell_type": "code",
   "execution_count": 6,
   "metadata": {},
   "outputs": [
    {
     "name": "stdout",
     "output_type": "stream",
     "text": [
      "1546\n",
      "Unikatnych 1340\n"
     ]
    }
   ],
   "source": [
    "# transformuj do formatu index - (priebežný) výsledok konania\n",
    "def get_index_result(preskoceny_zaznam):\n",
    "    preskoceny_zaznam_list = preskoceny_zaznam.split(' ')\n",
    "    index = int(preskoceny_zaznam_list[1])\n",
    "    vysledok = ' '.join(preskoceny_zaznam_list[3:]).strip('\\n')\n",
    "    \n",
    "    return (index, vysledok)\n",
    "\n",
    "preskocene_list = list(map(get_index_result, preskocene))\n",
    "print(len(preskocene_list))\n",
    "\n",
    "# poradime si s duplikatmi (opakovany zapis zaznamov, ktore sa kvoli chybe neulozili ale neskor sme ich znova zbehli)\n",
    "df_preskocene_old = pd.DataFrame(pd.Series(dict(preskocene_list)))\n",
    "df_preskocene_old.index.name = 'index_konania'\n",
    "df_preskocene_old.rename(columns={0:'vysledok'}, inplace=True)\n",
    "print('Unikatnych', df_preskocene_old.index.size)"
   ]
  },
  {
   "cell_type": "code",
   "execution_count": 7,
   "metadata": {},
   "outputs": [],
   "source": [
    "preskocene_list = list(df_preskocene_old.index.astype(str))\n",
    "indexy_konani_new = list(indexy_konani_new)\n",
    "# odstran priapdne duplicity\n",
    "indexy_konani_update = list(set(indexy_konani_new + preskocene_list))"
   ]
  },
  {
   "cell_type": "code",
   "execution_count": 8,
   "metadata": {},
   "outputs": [
    {
     "name": "stdout",
     "output_type": "stream",
     "text": [
      "2546\n",
      "2546\n",
      "Duplicity:  False\n"
     ]
    }
   ],
   "source": [
    "# skontroluj duplicity\n",
    "\n",
    "print(len(preskocene_list) + len(indexy_konani_new))\n",
    "print(len(indexy_konani_update))\n",
    "\n",
    "print('Duplicity: ', (len(preskocene_list) + len(indexy_konani_new))!=len(indexy_konani_update))"
   ]
  },
  {
   "cell_type": "code",
   "execution_count": 11,
   "metadata": {},
   "outputs": [],
   "source": [
    "# uloz list relativnych linkov\n",
    "with open('./Data/indexy_konani_list_'+datestring_new+'.pkl', 'wb') as f:\n",
    "    pickle.dump(indexy_konani_update, f)"
   ]
  },
  {
   "cell_type": "code",
   "execution_count": null,
   "metadata": {},
   "outputs": [],
   "source": []
  },
  {
   "cell_type": "code",
   "execution_count": null,
   "metadata": {},
   "outputs": [],
   "source": []
  }
 ],
 "metadata": {
  "kernelspec": {
   "display_name": "Python 3",
   "language": "python",
   "name": "python3"
  },
  "language_info": {
   "codemirror_mode": {
    "name": "ipython",
    "version": 3
   },
   "file_extension": ".py",
   "mimetype": "text/x-python",
   "name": "python",
   "nbconvert_exporter": "python",
   "pygments_lexer": "ipython3",
   "version": "3.8.1"
  }
 },
 "nbformat": 4,
 "nbformat_minor": 2
}
