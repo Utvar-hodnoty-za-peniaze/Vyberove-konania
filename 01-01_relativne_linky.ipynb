{
 "cells": [
  {
   "cell_type": "markdown",
   "metadata": {},
   "source": [
    "### Relativne linky\n",
    "\n",
    "Notebook na stiahnutie linkov na zverejnené výberové konania."
   ]
  },
  {
   "cell_type": "code",
   "execution_count": 20,
   "metadata": {},
   "outputs": [],
   "source": [
    "from selenium import webdriver\n",
    "from bs4 import BeautifulSoup\n",
    "from math import ceil\n",
    "import pickle"
   ]
  },
  {
   "cell_type": "code",
   "execution_count": 10,
   "metadata": {},
   "outputs": [],
   "source": [
    "url0 = 'https://open.slovensko.sk/VK/SelectionProcedureListSearch?PageIndex=0&SortField=2&SortDirection=0'\n",
    "\n",
    "driver = webdriver.Firefox()\n",
    "driver.get(url0)"
   ]
  },
  {
   "cell_type": "code",
   "execution_count": 12,
   "metadata": {},
   "outputs": [
    {
     "name": "stdout",
     "output_type": "stream",
     "text": [
      "19809 15 1321\n"
     ]
    }
   ],
   "source": [
    "zdrojak = driver.page_source\n",
    "soup = BeautifulSoup(zdrojak)\n",
    "\n",
    "# zisti pocet konani\n",
    "pocet_konani = int(soup.find('div', class_='resultCount').span.strong.string)\n",
    "\n",
    "# zisti pocet zaznamov zobrazenych na stranke\n",
    "index_start = zdrojak.find('items_per_page') + len('items_per_page') + 2\n",
    "index_end = index_start + 4 # zober niekolko znakov naviac\n",
    "\n",
    "items_per_page = ''\n",
    "for char in zdrojak[index_start:index_end]:\n",
    "    if char in '0123456789':\n",
    "        items_per_page = items_per_page + char\n",
    "items_per_page = int(items_per_page)\n",
    "\n",
    "# pocet stranok\n",
    "page_count = ceil(pocet_konani/items_per_page)\n",
    "print(pocet_konani, items_per_page, page_count)"
   ]
  },
  {
   "cell_type": "code",
   "execution_count": 17,
   "metadata": {},
   "outputs": [],
   "source": [
    "url_start = 'https://open.slovensko.sk/VK/SelectionProcedureListSearch?PageIndex='\n",
    "url_end = '&SortField=2&SortDirection=0'\n",
    "\n",
    "relativne_linky = []\n",
    "\n",
    "for i in range(page_count):\n",
    "    driver.get(url_start + str(i) + url_end)\n",
    "    \n",
    "    zdrojak = driver.page_source\n",
    "    soup = BeautifulSoup(zdrojak)\n",
    "    \n",
    "    linky = soup.findAll('a', class_='info')\n",
    "    for link in linky:\n",
    "        relativne_linky.append(link.attrs['href'])"
   ]
  },
  {
   "cell_type": "code",
   "execution_count": 21,
   "metadata": {},
   "outputs": [],
   "source": [
    "# uloz list relativnych linkov\n",
    "with open('./Data/rel_linky_list_20191118.pkl', 'wb') as f:\n",
    "    pickle.dump(relativne_linky, f)"
   ]
  },
  {
   "cell_type": "code",
   "execution_count": 18,
   "metadata": {},
   "outputs": [
    {
     "data": {
      "text/plain": [
       "19809"
      ]
     },
     "execution_count": 18,
     "metadata": {},
     "output_type": "execute_result"
    }
   ],
   "source": [
    "len(relativne_linky)"
   ]
  },
  {
   "cell_type": "code",
   "execution_count": 16,
   "metadata": {},
   "outputs": [
    {
     "data": {
      "text/plain": [
       "1286"
      ]
     },
     "execution_count": 16,
     "metadata": {},
     "output_type": "execute_result"
    }
   ],
   "source": [
    "i"
   ]
  },
  {
   "cell_type": "code",
   "execution_count": null,
   "metadata": {},
   "outputs": [],
   "source": []
  }
 ],
 "metadata": {
  "kernelspec": {
   "display_name": "Python 3",
   "language": "python",
   "name": "python3"
  },
  "language_info": {
   "codemirror_mode": {
    "name": "ipython",
    "version": 3
   },
   "file_extension": ".py",
   "mimetype": "text/x-python",
   "name": "python",
   "nbconvert_exporter": "python",
   "pygments_lexer": "ipython3",
   "version": "3.8.1"
  }
 },
 "nbformat": 4,
 "nbformat_minor": 2
}
