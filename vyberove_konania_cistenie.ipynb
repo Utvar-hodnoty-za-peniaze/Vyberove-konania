{
 "cells": [
  {
   "cell_type": "markdown",
   "metadata": {},
   "source": [
    "Upravy 20/11/2019"
   ]
  },
  {
   "cell_type": "code",
   "execution_count": 18,
   "metadata": {},
   "outputs": [],
   "source": [
    "import pandas as pd\n",
    "import numpy as np\n",
    "#from IPython.display import display\n",
    "\n",
    "#pd.options.display.max_rows = 20000\n",
    "#pd.options.display.max_columns = 100"
   ]
  },
  {
   "cell_type": "markdown",
   "metadata": {},
   "source": [
    "Upravil som tabuľku vyberove_konania.csv a odstránil som z nej PSČ, ktoré sa v nej nachádzali, niektoré boli chybné a vnášalo to chaos. Podobne pokusy o to identifikovať kraj a podobne :)"
   ]
  },
  {
   "cell_type": "code",
   "execution_count": 19,
   "metadata": {},
   "outputs": [],
   "source": [
    "PSC = pd.read_csv('./Data/PSC.csv', sep = ';')\n",
    "ULICE = pd.read_csv('./Data/ULICE.csv', sep = ';')\n",
    "\n",
    "statne_organizacie = pd.read_csv('./Data/statne_organizacie.csv', sep = ';')\n",
    "vyberove_konania = pd.read_excel('vyberove_konania_20191119.xlsx', header=0, index_col=0)"
   ]
  },
  {
   "cell_type": "markdown",
   "metadata": {},
   "source": [
    "### Urobíme adresy pre miesto výkonu a miesto úradu, nájdeme okres a kraj\n",
    "\n",
    "Upravime tabuľku PSC.csv vo výberových konaniach, tak aby sme v nej vedeli vyhľadávať PSČ, ktoré sa vyskytujú vo výberových konaniach - odstránime medzery v PSČ. Zvládne to Bratislavu ale v Košiciach sú nejako divne okresy a kraje."
   ]
  },
  {
   "cell_type": "code",
   "execution_count": 20,
   "metadata": {},
   "outputs": [],
   "source": [
    "for index, row in PSC.iterrows():\n",
    "    PSC.at[index, 'PSC'] = row['PSC'].replace(' ','')\n",
    "\n",
    "PSC_upravene = PSC.copy()\n",
    "for index, row in PSC_upravene.iterrows():\n",
    "    PSC_upravene.at[index,'DOBEC'] = row['DOBEC'].replace(' ','')\n",
    "    \n",
    "for index, row in ULICE.iterrows():\n",
    "    ULICE.at[index, 'PSC'] = str(row['PSC']).replace(' ','')"
   ]
  },
  {
   "cell_type": "code",
   "execution_count": 21,
   "metadata": {},
   "outputs": [],
   "source": [
    "def najdi_podla_psc(psc):\n",
    "    result = PSC[PSC['PSC'] == psc]\n",
    "    if len(result.index) == 0:\n",
    "        # Osetri Bratislavu\n",
    "        if (psc[0] == '8'):\n",
    "            dict = {\n",
    "                '1' : 'I',\n",
    "                '2' : 'II',\n",
    "                '3' : 'III',\n",
    "                '4' : 'IV',\n",
    "                '5' : 'V'\n",
    "            }\n",
    "            return ['Bratislava','Bratislava '+dict[psc[1]],'BA']\n",
    "        else:\n",
    "            return ['','','']\n",
    "    else:\n",
    "        if result.index[0] > 1:\n",
    "            result = result.iloc[0]\n",
    "        return [result['DOBEC'], result['OKRES'], result['KRAJ']]\n",
    "    \n",
    "def najdi_psc_k_mestu(mesto):\n",
    "    result = PSC[PSC['DOBEC'] == mesto]['PSC']\n",
    "    if len(result.index) == 0:\n",
    "        return ''\n",
    "    else:\n",
    "        if len(result.index[0] == 1):\n",
    "            return str(result)\n",
    "        else:\n",
    "            return ''\n",
    "        \n",
    "def najdi_podla_mesta(mesto):\n",
    "    result = PSC_upravene[PSC_upravene['DOBEC'] == mesto]\n",
    "    if result.empty:\n",
    "        return ['','']\n",
    "    else:\n",
    "        if result.index[0] > 1:\n",
    "            result = result.iloc[0]\n",
    "        return[result['OKRES'],result['KRAJ']]"
   ]
  },
  {
   "cell_type": "code",
   "execution_count": 22,
   "metadata": {},
   "outputs": [],
   "source": [
    "empty_column = ['' for i in range(0,vyberove_konania.shape[0])]\n",
    "vyberove_konania.insert(12,'sluzobny_urad_ulica',empty_column)\n",
    "vyberove_konania.insert(13,'sluzobny_urad_mesto',empty_column)\n",
    "vyberove_konania.insert(14,'sluzobny_urad_psc',  empty_column)\n",
    "vyberove_konania.insert(15,'sluzobny_urad_okres',empty_column)\n",
    "vyberove_konania.insert(16,'sluzobny_urad_kraj', empty_column)"
   ]
  },
  {
   "cell_type": "markdown",
   "metadata": {},
   "source": [
    "Z bunky 'sluzobny_urad_sidlo' extrahujeme ulicu a mesto, podľa PSČ nájdeme okres a kraj. Košice ošetríme ručne v Exceli."
   ]
  },
  {
   "cell_type": "code",
   "execution_count": 23,
   "metadata": {},
   "outputs": [],
   "source": [
    "for index, row in vyberove_konania.iterrows():\n",
    "    adresa = row['sluzobny_urad_sidlo'].split('\\n')\n",
    "    \n",
    "    vyberove_konania.at[index,'sluzobny_urad_ulica'] = adresa[0]\n",
    "    mesto, sep, cast = adresa[1].partition('-')\n",
    "    vyberove_konania.at[index,'sluzobny_urad_mesto'] = mesto\n",
    "    vyberove_konania.at[index,'sluzobny_urad_psc']   = adresa[2].replace(' ', '')\n",
    "    \n",
    "    mesto, okres, kraj = najdi_podla_psc(adresa[2])\n",
    "    \n",
    "    vyberove_konania.at[index,'sluzobny_urad_okres'] = okres\n",
    "    vyberove_konania.at[index,'sluzobny_urad_kraj']  = kraj\n",
    "    \n",
    "vyberove_konania = vyberove_konania.drop(['sluzobny_urad_sidlo'], axis = 1)"
   ]
  },
  {
   "cell_type": "code",
   "execution_count": 24,
   "metadata": {},
   "outputs": [],
   "source": [
    "vyberove_konania.insert(26,'miesto_vykonu_ulica', empty_column)\n",
    "vyberove_konania.insert(27,'miesto_vykonu_mesto', empty_column)\n",
    "vyberove_konania.insert(28,'miesto_vykonu_psc',   empty_column)\n",
    "vyberove_konania.insert(29,'miesto_vykonu_okres', empty_column)\n",
    "vyberove_konania.insert(30,'miesto_vykonu_kraj',  empty_column)"
   ]
  },
  {
   "cell_type": "markdown",
   "metadata": {},
   "source": [
    "Nájdeme kraj a okres výkonu. Veci typu Bratislava-mestskacastNieco treba urobiť v Exceli."
   ]
  },
  {
   "cell_type": "code",
   "execution_count": 25,
   "metadata": {},
   "outputs": [],
   "source": [
    "# nahradime nan prazdnym stringom\n",
    "vyberove_konania['miesto_vykonu'] = vyberove_konania['miesto_vykonu'].fillna('')\n",
    "\n",
    "for index, row in vyberove_konania.iterrows():\n",
    "    adresa = row['miesto_vykonu'].split('\\n')\n",
    "    ulica = ''\n",
    "    mesto = ''\n",
    "    psc   = ''\n",
    "    \n",
    "    if len(adresa) == 3:\n",
    "        ulica = adresa[0].strip()\n",
    "        mesto = adresa[1].strip()\n",
    "        psc   = str(adresa[2]).strip().replace(' ', '')\n",
    "    \n",
    "    if len(adresa) == 2:\n",
    "        ulica = adresa[0].strip()\n",
    "        mesto = adresa[1].strip()\n",
    "        psc   = ''\n",
    "    \n",
    "    if len(adresa) == 1:\n",
    "        ulica = ''\n",
    "        mesto = adresa[0].strip()\n",
    "        psc   = ''\n",
    "\n",
    "    vyberove_konania.at[index,'miesto_vykonu_ulica'] = ulica\n",
    "    vyberove_konania.at[index,'miesto_vykonu_mesto'] = mesto\n",
    "    vyberove_konania.at[index,'miesto_vykonu_psc'] = psc\n",
    "    \n",
    "    okres, kraj = najdi_podla_mesta(mesto)\n",
    "    \n",
    "    try:\n",
    "        if okres == '':\n",
    "            if psc != '':\n",
    "                mesto, okres, kraj = najdi_podla_psc(psc)\n",
    "    except:\n",
    "        pass\n",
    "        \n",
    "    vyberove_konania.at[index,'miesto_vykonu_okres'] = okres\n",
    "    vyberove_konania.at[index,'miesto_vykonu_kraj']  = kraj\n",
    "    \n",
    "vyberove_konania = vyberove_konania.drop(['miesto_vykonu'], axis = 1)"
   ]
  },
  {
   "cell_type": "markdown",
   "metadata": {},
   "source": [
    "### Treba nájsť ešte IČO\n",
    "\n",
    "Urobíme to inteligentne. Urobíme najprv dve pomocné štruktúry, v ktorých vieme rýchlo vyhľadávať, slovník štátnych organizácií, ku ktorým poznáme IČO a nie su v likvidácii, slová upravíme. Tabuľku všetkých organizácii z výberových konaní, ku ktorým chceme priradiť IČO, ak ho nájdeme raz, nemusíme ho už hľadať ďalších 1000-krát. \n",
    "\n",
    "Názvy nemusia sedieť presne, preto chceme nájsť najbližší string, k tomu čo hľadáme. Na vyhodnotenie podobnosti skúsime urobiť veľmi jednoduchú mieru usporiadaný 'skalárny súčin' zmysluplných slov. Ku každému názvu nájdeme najpodobnejší názov z inej tabuľky."
   ]
  },
  {
   "cell_type": "code",
   "execution_count": 26,
   "metadata": {},
   "outputs": [],
   "source": [
    "vyberove_konania.insert(10,'sluzobny_urad_ico',empty_column)"
   ]
  },
  {
   "cell_type": "code",
   "execution_count": 27,
   "metadata": {},
   "outputs": [],
   "source": [
    "# Vytvori slovnik (Urad,ICO) pre vsetky zname statne organizacie, ktore nie su v likvidacii\n",
    "ICOs = dict()\n",
    "\n",
    "for index, row in statne_organizacie.iterrows():\n",
    "    if not row['NAZOV'] in ICOs and not 'v likvidácii' in row['NAZOV']:\n",
    "        ICOs[row['NAZOV'].casefold().strip()] = row['ICO']"
   ]
  },
  {
   "cell_type": "code",
   "execution_count": 28,
   "metadata": {},
   "outputs": [],
   "source": [
    "treba_najst = dict()\n",
    "\n",
    "for index, row in vyberove_konania.iterrows():\n",
    "    if not row['sluzobny_urad'] in treba_najst:\n",
    "        if row['sluzobny_urad'] in ICOs:\n",
    "            treba_najst[row['sluzobny_urad']] = ICOs[row['sluzobny_urad']]\n",
    "        else:\n",
    "            treba_najst[row['sluzobny_urad']] = None\n",
    "        \n",
    "# Ulozime si tie urady, pre ktore sme nenasli ostru zhodu\n",
    "nenajdene = [urad for urad in treba_najst if treba_najst[urad] == None]"
   ]
  },
  {
   "cell_type": "code",
   "execution_count": 29,
   "metadata": {},
   "outputs": [],
   "source": [
    "# Rozmeni nazov urad na slova a zahodi interpunkcne znamienka atd ...\n",
    "def parse(word):\n",
    "    slovak_alphabet = 'aáäbcčdďeéfghiíjklĺľmnňoóôpqrŕsštťuúvwxyýzž1234567890'\n",
    "    result = ''\n",
    "    for char in word:\n",
    "        if char in slovak_alphabet:\n",
    "            result = result + char\n",
    "    return result\n",
    "    \n",
    "def parse_and_break(sentence):\n",
    "    sentence = sentence.casefold().strip()\n",
    "    sentence = sentence.split(' ')\n",
    "    return [parse(word) for word in sentence if parse(word) != '']\n",
    "\n",
    "# Zadefinuje skalarny sucin nazvov\n",
    "def skalarny_sucin(string_a,string_b):\n",
    "    slova_a = parse_and_break(string_a)\n",
    "    slova_b = parse_and_break(string_b)\n",
    "\n",
    "    if len(slova_a)>len(slova_b):\n",
    "        slova_c = slova_a.copy()\n",
    "        slova_a = slova_b.copy()\n",
    "        slova_b = slova_c.copy()\n",
    "    \n",
    "    result = 0\n",
    "    for index, slovo in enumerate(slova_a):\n",
    "        if slovo == slova_b[index]:\n",
    "            result += 1\n",
    "        else:\n",
    "            break\n",
    "            \n",
    "    return result\n",
    "\n",
    "def najdi_ICO(hladany_urad):\n",
    "    urady = [[urad,ICOs[urad],0] for urad in ICOs]\n",
    "\n",
    "    for index, urad in enumerate(urady):\n",
    "        urady[index][2] = skalarny_sucin(hladany_urad, urad[0])\n",
    "\n",
    "    urady.sort(key=lambda tup: tup[2], reverse = True)\n",
    "    \n",
    "    # Skontroluje ci sme nasli ostro najlepsi vysledok alebo je viac kandidatov\n",
    "    # ak je viac kandidatiov napr. nieco typu v nazve je Okresny sud a rozlisit sa to da iba podla dalsieho stlpca\n",
    "    # tak radsej nevrati nic\n",
    "    \n",
    "    if (urady[0][2]>urady[1][2]):\n",
    "        return urady[0][1]\n",
    "    else:\n",
    "        return None"
   ]
  },
  {
   "cell_type": "code",
   "execution_count": 30,
   "metadata": {},
   "outputs": [],
   "source": [
    "co_sme_nasli = dict()\n",
    "for urad in nenajdene:\n",
    "    co_sme_nasli[urad] = najdi_ICO(urad)\n",
    "    treba_najst[urad]  = najdi_ICO(urad)"
   ]
  },
  {
   "cell_type": "code",
   "execution_count": 31,
   "metadata": {
    "scrolled": false
   },
   "outputs": [
    {
     "name": "stdout",
     "output_type": "stream",
     "text": [
      "Kolko treba dohladat manualne?  35\n",
      "co_sme_nasli['Regionálny úrad verejného zdravotníctva Čadca']=\n",
      "co_sme_nasli['Regionálny úrad verejného zdravotníctva Liptovský Mikuláš']=\n",
      "co_sme_nasli['Regionálny úrad verejného zdravotníctva Martin']=\n",
      "co_sme_nasli['Regionálny úrad verejného zdravotníctva Lučenec']=\n",
      "co_sme_nasli['Regionálny úrad verejného zdravotníctva Trenčín']=\n",
      "co_sme_nasli['Inšpektorát práce Trenčín']=\n",
      "co_sme_nasli['Regionálny úrad verejného zdravotníctva Zvolen']=\n",
      "co_sme_nasli['Regionálny úrad verejného zdravotníctva Michalovce']=\n",
      "co_sme_nasli['Ústredný inšpektorát Slovenskej obchodnej inšpekcie']=\n",
      "co_sme_nasli['Regionálny úrad verejného zdravotníctva Levice']=\n",
      "co_sme_nasli['Úrad verejného zdravotníctva SR Bratislava']=\n",
      "co_sme_nasli['Regionálny úrad verejného zdravotníctva Galanta']=\n",
      "co_sme_nasli['Regionálny úrad verejného zdravotníctva, Humenné']=\n",
      "co_sme_nasli['Regionálny úrad verejného zdravotníctva Komárno']=\n",
      "co_sme_nasli['Regionálny úrad verejného zdravotníctva Vranov nad Topľou']=\n",
      "co_sme_nasli['Regionálny úrad verejného zdravotníctva Stará Ľubovňa']=\n",
      "co_sme_nasli['Inšpektorát práce Žilina']=\n",
      "co_sme_nasli['Regionálny úrad verejného zdravotníctva Svidník']=\n",
      "co_sme_nasli['Regionálny úrad verejného zdravotníctva Bardejov']=\n",
      "co_sme_nasli['Regionálny úrad verejného zdravotníctva Dunajská Streda']=\n",
      "co_sme_nasli['Regionálny úrad verejného zdravotníctva, Rožňava']=\n",
      "co_sme_nasli['Regionálny úrad verejného zdravotníctva, Žilina']=\n",
      "co_sme_nasli['Regionálny úrad verejného zdravotníctva Nové Zámky']=\n",
      "co_sme_nasli['Regionálny úrad verejného zdravotníctva Trnava']=\n",
      "co_sme_nasli['Regionálny úrad verejného zdravotníctva Banská Bystrica']=\n",
      "co_sme_nasli['Regionálny úrad verejného zdravotníctva Žiar nad Hronom']=\n",
      "co_sme_nasli['Regionálny úrad verejného zdravotníctva Košice']=\n",
      "co_sme_nasli['Regionálny úrad verejného zdravotníctva Spišská Nová Ves']=\n",
      "co_sme_nasli['Regionálny úrad verejného zdravotníctva Trebišov']=\n",
      "co_sme_nasli['Regionálny úrad verejného zdravotníctva Rimavská Sobota']=\n",
      "co_sme_nasli['Regionálny úrad verejného zdravotníctva Nitra']=\n",
      "co_sme_nasli['Regionálny úrad verejného zdravotníctva Topoľčany']=\n",
      "co_sme_nasli['Regionálny úrad verejného zdravotníctva pre územný obvod okresov Senica a Skalica']=\n",
      "co_sme_nasli['Regionálny úrad verejného zdravotníctva Prešov']=\n",
      "co_sme_nasli['Úrad pre reguláciu hazardných hier']=\n"
     ]
    }
   ],
   "source": [
    "este_stale_nenajdene = [urad for urad in co_sme_nasli if co_sme_nasli[urad] == None]\n",
    "print('Kolko treba dohladat manualne? ',len(este_stale_nenajdene))\n",
    "# Urady ktore treba dohladat manualne ulozime do subory\n",
    "# Napriklad preto ze maju ine nazvy typicky v jednej tabulke\n",
    "# Regionalny urad verejneho zdravotnictva Lucenec a Regionalny urad vereneho zdravotnictva so sidlom v Lucenci\n",
    "for urad in este_stale_nenajdene:\n",
    "    print('co_sme_nasli[\\''+urad+'\\']=')"
   ]
  },
  {
   "cell_type": "code",
   "execution_count": 32,
   "metadata": {},
   "outputs": [],
   "source": [
    "co_sme_nasli['Úrad pre reguláciu hazardných hier']='52265021'\n",
    "co_sme_nasli['Inšpektorát práce Žilina']='35993499'\n",
    "co_sme_nasli['Inšpektorát práce Trenčín']='35627620'\n",
    "co_sme_nasli['Úrad verejného zdravotníctva SR Bratislava']='00607223'\n",
    "co_sme_nasli['Ústredný inšpektorát Slovenskej obchodnej inšpekcie']='17331927'\n",
    "co_sme_nasli['Regionálny úrad verejného zdravotníctva Žiar nad Hronom']='17336104'\n",
    "co_sme_nasli['Regionálny úrad verejného zdravotníctva Čadca']='17335493'\n",
    "co_sme_nasli['Regionálny úrad verejného zdravotníctva Liptovský Mikuláš']='00607215'\n",
    "co_sme_nasli['Regionálny úrad verejného zdravotníctva Martin']='17335621'\n",
    "co_sme_nasli['Regionálny úrad verejného zdravotníctva Komárno']='17335655'\n",
    "co_sme_nasli['Regionálny úrad verejného zdravotníctva Zvolen']='17335710'\n",
    "co_sme_nasli['Regionálny úrad verejného zdravotníctva Michalovce']='17335680'\n",
    "co_sme_nasli['Regionálny úrad verejného zdravotníctva Nitra']='17336031'\n",
    "co_sme_nasli['Regionálny úrad verejného zdravotníctva Nové Zámky']='17336121'\n",
    "co_sme_nasli['Regionálny úrad verejného zdravotníctva Banská Bystrica']='00606979'\n",
    "co_sme_nasli['Regionálny úrad verejného zdravotníctva Bardejov']='00611026'\n",
    "co_sme_nasli['Regionálny úrad verejného zdravotníctva Spišská Nová Ves']='00610984'\n",
    "co_sme_nasli['Regionálny úrad verejného zdravotníctva Stará Ľubovňa']='17335451'\n",
    "co_sme_nasli['Regionálny úrad verejného zdravotníctva Trnava']='00610933'\n",
    "co_sme_nasli['Regionálny úrad verejného zdravotníctva Vranov nad Topľou']='17335787'\n",
    "co_sme_nasli['Regionálny úrad verejného zdravotníctva Trebišov']='17335434'\n",
    "co_sme_nasli['Regionálny úrad verejného zdravotníctva Dunajská Streda']='17335981'\n",
    "co_sme_nasli['Regionálny úrad verejného zdravotníctva Galanta']='00610917'\n",
    "co_sme_nasli['Regionálny úrad verejného zdravotníctva Humenné']='00611018'\n",
    "co_sme_nasli['Regionálny úrad verejného zdravotníctva pre územný obvod okresov Senica a Skalica']='00611034'\n",
    "co_sme_nasli['Regionálny úrad verejného zdravotníctva Prešov']='00610992'\n",
    "co_sme_nasli['Regionálny úrad verejného zdravotníctva Žilina']='17335876'\n",
    "co_sme_nasli['Regionálny úrad verejného zdravotníctva Rožňava']='17335957'\n",
    "co_sme_nasli['Regionálny úrad verejného zdravotníctva Levice']='00610909'\n",
    "co_sme_nasli['Regionálny úrad verejného zdravotníctva Košice']='00606723'\n",
    "co_sme_nasli['Regionálny úrad verejného zdravotníctva Topoľčany']='17335761'\n",
    "co_sme_nasli['Regionálny úrad verejného zdravotníctva Trenčín']='00610968'\n",
    "co_sme_nasli['Regionálny úrad verejného zdravotníctva Lučenec']='17335558'\n",
    "co_sme_nasli['Regionálny úrad verejného zdravotníctva Svidník']='17335914'\n",
    "co_sme_nasli['Regionálny úrad verejného zdravotníctva Rimavská Sobota']='00611000'"
   ]
  },
  {
   "cell_type": "markdown",
   "metadata": {},
   "source": [
    "Nič nové hľadať netreba."
   ]
  },
  {
   "cell_type": "code",
   "execution_count": 33,
   "metadata": {},
   "outputs": [],
   "source": [
    "for urad in co_sme_nasli:\n",
    "    treba_najst[urad] = co_sme_nasli[urad]\n",
    "    \n",
    "for index, row in vyberove_konania.iterrows():\n",
    "    vyberove_konania.at[index,'sluzobny_urad_ico'] = treba_najst[row['sluzobny_urad']]"
   ]
  },
  {
   "cell_type": "code",
   "execution_count": 34,
   "metadata": {},
   "outputs": [],
   "source": [
    "vyberove_konania.to_excel('vyberove_konania_20191119_upravene .xlsx')"
   ]
  },
  {
   "cell_type": "code",
   "execution_count": 36,
   "metadata": {},
   "outputs": [],
   "source": [
    "vyberove_konania.to_pickle('vyberove_konania_20191119_upravene.pkl')"
   ]
  },
  {
   "cell_type": "code",
   "execution_count": 29,
   "metadata": {},
   "outputs": [],
   "source": [
    "vyberove_konania.to_csv('vyberove_konania_20191119_upravene.csv', sep=';')"
   ]
  }
 ],
 "metadata": {
  "kernelspec": {
   "display_name": "Python 3",
   "language": "python",
   "name": "python3"
  },
  "language_info": {
   "codemirror_mode": {
    "name": "ipython",
    "version": 3
   },
   "file_extension": ".py",
   "mimetype": "text/x-python",
   "name": "python",
   "nbconvert_exporter": "python",
   "pygments_lexer": "ipython3",
   "version": "3.7.4"
  }
 },
 "nbformat": 4,
 "nbformat_minor": 2
}
