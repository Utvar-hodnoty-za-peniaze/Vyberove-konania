{
 "cells": [
  {
   "cell_type": "code",
   "execution_count": 1,
   "metadata": {},
   "outputs": [],
   "source": [
    "from selenium import webdriver\n",
    "from bs4 import BeautifulSoup\n",
    "from math import ceil\n",
    "import pickle\n",
    "\n",
    "import numpy as np\n",
    "import pandas as pd"
   ]
  },
  {
   "cell_type": "code",
   "execution_count": 2,
   "metadata": {},
   "outputs": [],
   "source": [
    "datestring_old = '20191118'\n",
    "datestring_new = '20200210'"
   ]
  },
  {
   "cell_type": "code",
   "execution_count": 4,
   "metadata": {},
   "outputs": [],
   "source": [
    "with open('./Data/vyberove_konania_'+'20191119'+'.pkl', 'rb') as f:\n",
    "    df_vk_old = pickle.load(f)"
   ]
  },
  {
   "cell_type": "code",
   "execution_count": 20,
   "metadata": {},
   "outputs": [],
   "source": [
    "with open('./Data/df_preskocene_'+datestring_new+'.pkl', 'rb') as f:\n",
    "    df_preskocene_new = pickle.load(f)\n",
    "    \n",
    "df_preskocene_new.index = df_preskocene_new.index.astype(int)"
   ]
  },
  {
   "cell_type": "code",
   "execution_count": 8,
   "metadata": {},
   "outputs": [
    {
     "name": "stdout",
     "output_type": "stream",
     "text": [
      "1546\n"
     ]
    }
   ],
   "source": [
    "# legacy code: parse textoveho logu preskocenych konani do df\n",
    "with open('./Data/log_preskocene_'+datestring_old+'.txt') as f:\n",
    "    preskocene = f.readlines()\n",
    "\n",
    "# zbehnutie kodu ak zlyha ukladanie niektorych datasetov\n",
    "with open('./Data/log_preskocene_chyby_'+datestring_old+'.txt') as f:\n",
    "    preskocene = preskocene + f.readlines()\n",
    "    \n",
    "# transformuj do formatu index - (priebežný) výsledok konania\n",
    "def get_index_result(preskoceny_zaznam):\n",
    "    preskoceny_zaznam_list = preskoceny_zaznam.split(' ')\n",
    "    index = int(preskoceny_zaznam_list[1])\n",
    "    vysledok = ' '.join(preskoceny_zaznam_list[3:]).strip('\\n')\n",
    "    \n",
    "    return (index, vysledok)\n",
    "\n",
    "preskocene_list = list(map(get_index_result, preskocene))\n",
    "print(len(preskocene_list))\n",
    "\n",
    "# poradime si s duplikatmi (opakovany zapis zaznamov, ktore sa kvoli chybe neulozili ale neskor sme ich znova zbehli)\n",
    "df_preskocene_old = pd.DataFrame(pd.Series(dict(preskocene_list)))\n",
    "df_preskocene_old.index.name = 'index_konania'\n",
    "df_preskocene_old.rename(columns={0:'vysledok'}, inplace=True)"
   ]
  },
  {
   "cell_type": "code",
   "execution_count": 22,
   "metadata": {},
   "outputs": [],
   "source": [
    "preskocene_spolocne = np.intersect1d(df_preskocene_new.index, df_preskocene_old.index)"
   ]
  },
  {
   "cell_type": "code",
   "execution_count": 26,
   "metadata": {},
   "outputs": [],
   "source": [
    "df = pd.DataFrame()\n",
    "\n",
    "for ii in range(1, 25+1):\n",
    "    with open('./Data/data_'+datestring_new+'_' + str(ii) + '.pkl', 'rb') as f:\n",
    "        df0 = pickle.load(f)\n",
    "    df = df.append(df0, ignore_index=True)"
   ]
  },
  {
   "cell_type": "code",
   "execution_count": 34,
   "metadata": {},
   "outputs": [],
   "source": [
    "with open('./Data/rel_linky_list_'+datestring_old+'.pkl', 'rb') as f:\n",
    "    relativne_linky_old = pickle.load(f)\n",
    "    \n",
    "with open('./Data/rel_linky_list_'+datestring_new+'.pkl', 'rb') as f:\n",
    "    relativne_linky_new = pickle.load(f)\n",
    "\n",
    "total_old = len(relativne_linky_old)\n",
    "total_new = len(relativne_linky_new)"
   ]
  },
  {
   "cell_type": "code",
   "execution_count": 57,
   "metadata": {},
   "outputs": [],
   "source": [
    "n_nove = total_new - total_old\n",
    "n_total_nove_vyhodnotene = df.index.size\n",
    "n_predtym_preskocene = df_preskocene_old.index.size - len(preskocene_spolocne)\n",
    "n_teraz_preskocene = df_preskocene_new.index.size - len(preskocene_spolocne)"
   ]
  },
  {
   "cell_type": "code",
   "execution_count": 58,
   "metadata": {},
   "outputs": [
    {
     "name": "stdout",
     "output_type": "stream",
     "text": [
      "1907\n",
      "1907\n"
     ]
    }
   ],
   "source": [
    "print(n_nove + n_predtym_preskocene)\n",
    "print(n_teraz_preskocene + n_total_nove_vyhodnotene)"
   ]
  },
  {
   "cell_type": "code",
   "execution_count": 59,
   "metadata": {},
   "outputs": [],
   "source": [
    "df_vk = df_vk_old.append(df, ignore_index=True)"
   ]
  },
  {
   "cell_type": "code",
   "execution_count": 64,
   "metadata": {},
   "outputs": [
    {
     "name": "stdout",
     "output_type": "stream",
     "text": [
      "21015\n",
      "21015\n"
     ]
    }
   ],
   "source": [
    "print(df_vk.index.size + df_preskocene_new.index.size)\n",
    "print(total_new)"
   ]
  },
  {
   "cell_type": "code",
   "execution_count": 65,
   "metadata": {},
   "outputs": [],
   "source": [
    "# uloz\n",
    "df_vk.to_excel('./Data/vyberove_konania_'+datestring_new+'.xlsx')\n",
    "df_vk.to_pickle('./Data/vyberove_konania_'+datestring_new+'.pkl')"
   ]
  },
  {
   "cell_type": "code",
   "execution_count": null,
   "metadata": {},
   "outputs": [],
   "source": []
  }
 ],
 "metadata": {
  "kernelspec": {
   "display_name": "Python 3",
   "language": "python",
   "name": "python3"
  },
  "language_info": {
   "codemirror_mode": {
    "name": "ipython",
    "version": 3
   },
   "file_extension": ".py",
   "mimetype": "text/x-python",
   "name": "python",
   "nbconvert_exporter": "python",
   "pygments_lexer": "ipython3",
   "version": "3.8.1"
  }
 },
 "nbformat": 4,
 "nbformat_minor": 2
}
